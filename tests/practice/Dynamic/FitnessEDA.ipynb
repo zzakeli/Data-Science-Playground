{
 "cells": [
  {
   "cell_type": "code",
   "execution_count": 64,
   "id": "2687ad08",
   "metadata": {},
   "outputs": [],
   "source": [
    "import pandas as pd\n",
    "import seaborn as sns"
   ]
  },
  {
   "cell_type": "code",
   "execution_count": 65,
   "id": "dd7e3dc1",
   "metadata": {},
   "outputs": [
    {
     "name": "stdout",
     "output_type": "stream",
     "text": [
      "                            title  \\\n",
      "0  Weightlifting Mobility program   \n",
      "1  Weightlifting Mobility program   \n",
      "2  Weightlifting Mobility program   \n",
      "3  Weightlifting Mobility program   \n",
      "4  Weightlifting Mobility program   \n",
      "\n",
      "                                         description  \\\n",
      "0  This program is designed to help athletes succ...   \n",
      "1  This program is designed to help athletes succ...   \n",
      "2  This program is designed to help athletes succ...   \n",
      "3  This program is designed to help athletes succ...   \n",
      "4  This program is designed to help athletes succ...   \n",
      "\n",
      "                                               level  \\\n",
      "0  ['Beginner', 'Novice', 'Intermediate', 'Advanc...   \n",
      "1  ['Beginner', 'Novice', 'Intermediate', 'Advanc...   \n",
      "2  ['Beginner', 'Novice', 'Intermediate', 'Advanc...   \n",
      "3  ['Beginner', 'Novice', 'Intermediate', 'Advanc...   \n",
      "4  ['Beginner', 'Novice', 'Intermediate', 'Advanc...   \n",
      "\n",
      "                                                goal   equipment  \\\n",
      "0  ['Olympic Weightlifting', 'Muscle & Sculpting'...  Garage Gym   \n",
      "1  ['Olympic Weightlifting', 'Muscle & Sculpting'...  Garage Gym   \n",
      "2  ['Olympic Weightlifting', 'Muscle & Sculpting'...  Garage Gym   \n",
      "3  ['Olympic Weightlifting', 'Muscle & Sculpting'...  Garage Gym   \n",
      "4  ['Olympic Weightlifting', 'Muscle & Sculpting'...  Garage Gym   \n",
      "\n",
      "   program_length  time_per_workout  week  day  number_of_exercises  \\\n",
      "0             7.0                50     1    1                   16   \n",
      "1             7.0                50     1    1                   16   \n",
      "2             7.0                50     1    1                   16   \n",
      "3             7.0                50     1    1                   16   \n",
      "4             7.0                50     1    1                   16   \n",
      "\n",
      "                          exercise_name  sets  reps  intensity  \\\n",
      "0  Knee-to-wall ankle dorsiflexion test     3  -180          6   \n",
      "1             Banded ankle distractions     3   -18          6   \n",
      "2              Slant board calf stretch     3   -18          6   \n",
      "3                 Seated Tibialis Raise     3    15          6   \n",
      "4                   90/90 Hip Rotations     3     8          6   \n",
      "\n",
      "           created        last_edit  \n",
      "0  09/03/2025 4:11  23/06/2025 3:31  \n",
      "1  09/03/2025 4:11  23/06/2025 3:31  \n",
      "2  09/03/2025 4:11  23/06/2025 3:31  \n",
      "3  09/03/2025 4:11  23/06/2025 3:31  \n",
      "4  09/03/2025 4:11  23/06/2025 3:31  \n"
     ]
    }
   ],
   "source": [
    "df = pd.read_csv('datasets/programs_detailed_boostcamp_kaggle.csv')\n",
    "print(df.head())"
   ]
  },
  {
   "cell_type": "code",
   "execution_count": 66,
   "id": "be0a84fd",
   "metadata": {},
   "outputs": [
    {
     "name": "stdout",
     "output_type": "stream",
     "text": [
      "<class 'pandas.core.frame.DataFrame'>\n",
      "RangeIndex: 605033 entries, 0 to 605032\n",
      "Data columns (total 16 columns):\n",
      " #   Column               Non-Null Count   Dtype  \n",
      "---  ------               --------------   -----  \n",
      " 0   title                605033 non-null  object \n",
      " 1   description          604214 non-null  object \n",
      " 2   level                605033 non-null  object \n",
      " 3   goal                 605033 non-null  object \n",
      " 4   equipment            605017 non-null  object \n",
      " 5   program_length       605017 non-null  float64\n",
      " 6   time_per_workout     605033 non-null  int64  \n",
      " 7   week                 605033 non-null  int64  \n",
      " 8   day                  605033 non-null  int64  \n",
      " 9   number_of_exercises  605033 non-null  int64  \n",
      " 10  exercise_name        605033 non-null  object \n",
      " 11  sets                 605033 non-null  int64  \n",
      " 12  reps                 605033 non-null  int64  \n",
      " 13  intensity            605033 non-null  int64  \n",
      " 14  created              605017 non-null  object \n",
      " 15  last_edit            604992 non-null  object \n",
      "dtypes: float64(1), int64(7), object(8)\n",
      "memory usage: 73.9+ MB\n",
      "None\n"
     ]
    }
   ],
   "source": [
    "print(df.info())"
   ]
  },
  {
   "cell_type": "code",
   "execution_count": 67,
   "id": "b73c2339",
   "metadata": {},
   "outputs": [
    {
     "name": "stdout",
     "output_type": "stream",
     "text": [
      "       program_length  time_per_workout           week            day  \\\n",
      "count   605017.000000     605033.000000  605033.000000  605033.000000   \n",
      "mean        10.933861         72.255351       5.929030       2.812116   \n",
      "std          3.789097         24.282719       3.821923       1.480664   \n",
      "min          1.000000         10.000000       1.000000       1.000000   \n",
      "25%          8.000000         60.000000       3.000000       2.000000   \n",
      "50%         12.000000         70.000000       5.000000       3.000000   \n",
      "75%         12.000000         90.000000       8.000000       4.000000   \n",
      "max         18.000000        180.000000      18.000000      10.000000   \n",
      "\n",
      "       number_of_exercises           sets           reps      intensity  \n",
      "count        605033.000000  605033.000000  605033.000000  605033.000000  \n",
      "mean              6.846263       2.606160     -23.953452       7.868779  \n",
      "std               2.739406       1.145656     746.027461       1.205327  \n",
      "min               1.000000       1.000000  -86400.000000       0.000000  \n",
      "25%               5.000000       2.000000       8.000000       7.000000  \n",
      "50%               6.000000       3.000000      10.000000       8.000000  \n",
      "75%               8.000000       3.000000      12.000000       9.000000  \n",
      "max              24.000000      30.000000     200.000000      10.000000  \n"
     ]
    }
   ],
   "source": [
    "print(df.describe())"
   ]
  },
  {
   "cell_type": "code",
   "execution_count": 68,
   "id": "0b880c64",
   "metadata": {},
   "outputs": [
    {
     "name": "stdout",
     "output_type": "stream",
     "text": [
      "title                  False\n",
      "description             True\n",
      "level                  False\n",
      "goal                   False\n",
      "equipment               True\n",
      "program_length          True\n",
      "time_per_workout       False\n",
      "week                   False\n",
      "day                    False\n",
      "number_of_exercises    False\n",
      "exercise_name          False\n",
      "sets                   False\n",
      "reps                   False\n",
      "intensity              False\n",
      "created                 True\n",
      "last_edit               True\n",
      "dtype: bool\n"
     ]
    }
   ],
   "source": [
    "print(df.isna().any())"
   ]
  },
  {
   "cell_type": "code",
   "execution_count": 69,
   "id": "93046df2",
   "metadata": {},
   "outputs": [
    {
     "name": "stdout",
     "output_type": "stream",
     "text": [
      "description\n",
      "False    604173\n",
      "Name: count, dtype: int64\n",
      "equipment\n",
      "False    604173\n",
      "Name: count, dtype: int64\n",
      "program_length\n",
      "False    604173\n",
      "Name: count, dtype: int64\n",
      "created\n",
      "False    604173\n",
      "Name: count, dtype: int64\n",
      "last_edit\n",
      "False    604173\n",
      "Name: count, dtype: int64\n"
     ]
    }
   ],
   "source": [
    "df = df.dropna()\n",
    "print(df['description'].isna().value_counts())\n",
    "print(df['equipment'].isna().value_counts())\n",
    "print(df['program_length'].isna().value_counts())\n",
    "print(df['created'].isna().value_counts())\n",
    "print(df['last_edit'].isna().value_counts())"
   ]
  },
  {
   "cell_type": "code",
   "execution_count": 70,
   "id": "4d0633c7",
   "metadata": {},
   "outputs": [
    {
     "name": "stdout",
     "output_type": "stream",
     "text": [
      "                    title                                        description  \\\n",
      "36329  Excelsior program!  This program is a 8 day split that includes an...   \n",
      "36132  Excelsior program!  This program is a 8 day split that includes an...   \n",
      "36133  Excelsior program!  This program is a 8 day split that includes an...   \n",
      "36134  Excelsior program!  This program is a 8 day split that includes an...   \n",
      "36135  Excelsior program!  This program is a 8 day split that includes an...   \n",
      "\n",
      "                                        level  \\\n",
      "36329              ['Novice', 'Intermediate']   \n",
      "36132  ['Beginner', 'Novice', 'Intermediate']   \n",
      "36133  ['Beginner', 'Novice', 'Intermediate']   \n",
      "36134  ['Beginner', 'Novice', 'Intermediate']   \n",
      "36135  ['Beginner', 'Novice', 'Intermediate']   \n",
      "\n",
      "                                         goal equipment  program_length  \\\n",
      "36329  ['Bodybuilding', 'Bodyweight Fitness']  Full Gym            12.0   \n",
      "36132                        ['Bodybuilding']  Full Gym            12.0   \n",
      "36133                        ['Bodybuilding']  Full Gym            12.0   \n",
      "36134                        ['Bodybuilding']  Full Gym            12.0   \n",
      "36135                        ['Bodybuilding']  Full Gym            12.0   \n",
      "\n",
      "       time_per_workout  week  day  number_of_exercises  \\\n",
      "36329                80    12    6                    4   \n",
      "36132                80     4    5                    4   \n",
      "36133                80     4    5                    4   \n",
      "36134                80     4    6                    4   \n",
      "36135                80     4    6                    4   \n",
      "\n",
      "                          exercise_name  sets  reps  intensity  \\\n",
      "36329                      Inverted Row     3    16          8   \n",
      "36132                     Leg Extension     3    10         10   \n",
      "36133                    Neck Extension     3    10         10   \n",
      "36134                  Dip (Bodyweight)     3    10         10   \n",
      "36135  V-Handle Tricep Pushdown (Cable)     3    10         10   \n",
      "\n",
      "                created        last_edit  \n",
      "36329  01/01/2024 12:06  18/06/2025 7:53  \n",
      "36132  01/01/2024 12:06  18/06/2025 7:53  \n",
      "36133  01/01/2024 12:06  18/06/2025 7:53  \n",
      "36134  01/01/2024 12:06  18/06/2025 7:53  \n",
      "36135  01/01/2024 12:06  18/06/2025 7:53  \n"
     ]
    }
   ],
   "source": [
    "df = df.sort_values(by='created', ascending=True)\n",
    "print(df.head())"
   ]
  },
  {
   "cell_type": "code",
   "execution_count": 71,
   "id": "7310dbda",
   "metadata": {},
   "outputs": [
    {
     "name": "stdout",
     "output_type": "stream",
     "text": [
      "title                  False\n",
      "description            False\n",
      "level                  False\n",
      "goal                   False\n",
      "equipment              False\n",
      "program_length         False\n",
      "time_per_workout       False\n",
      "week                   False\n",
      "day                    False\n",
      "number_of_exercises    False\n",
      "exercise_name          False\n",
      "sets                   False\n",
      "reps                   False\n",
      "intensity              False\n",
      "created                False\n",
      "last_edit              False\n",
      "dtype: bool\n"
     ]
    }
   ],
   "source": [
    "print(df.isna().any())"
   ]
  },
  {
   "cell_type": "code",
   "execution_count": null,
   "id": "ba68e874",
   "metadata": {},
   "outputs": [
    {
     "name": "stdout",
     "output_type": "stream",
     "text": [
      "250\n"
     ]
    }
   ],
   "source": [
    "arr = []\n",
    "# df['goal'] = df['goal'].drop_duplicates()\n",
    "# print(df['goal'].nunique())\n",
    "# words = []\n",
    "# arr = df['goal'].unique().tolist()\n",
    "# for i in range(len(arr)):\n",
    "#     stri = \"\"\n",
    "#     for j in range(len(arr[i])):\n",
    "#         if arr[i][j] == \"'\":\n",
    "#             for k in range(len(arr[i][j])):\n",
    "                \n",
    "            \n",
    "#         # if arr[i][j].isalpha():\n",
    "#         #     stri += arr[i][j]\n",
    "#         #     ...\n",
    "    \n",
    "#     words.append(stri)\n",
    "        \n",
    "    "
   ]
  }
 ],
 "metadata": {
  "kernelspec": {
   "display_name": "env",
   "language": "python",
   "name": "python3"
  },
  "language_info": {
   "codemirror_mode": {
    "name": "ipython",
    "version": 3
   },
   "file_extension": ".py",
   "mimetype": "text/x-python",
   "name": "python",
   "nbconvert_exporter": "python",
   "pygments_lexer": "ipython3",
   "version": "3.12.3"
  }
 },
 "nbformat": 4,
 "nbformat_minor": 5
}
