{
 "cells": [
  {
   "cell_type": "code",
   "execution_count": 1,
   "id": "734be3c2",
   "metadata": {},
   "outputs": [],
   "source": [
    "import pandas as pd"
   ]
  },
  {
   "cell_type": "code",
   "execution_count": 2,
   "id": "c4d2baf8",
   "metadata": {},
   "outputs": [],
   "source": [
    "students = pd.DataFrame({\n",
    "    'student_id': [1,2,3,4],\n",
    "    'name': ['Alice','Bob','Charlie','David'],\n",
    "    'major':['CS','Math','CS','Physics']\n",
    "})\n",
    "\n",
    "enrollments = pd.DataFrame({\n",
    "    'student_id': [1,2,2,3,5],\n",
    "    'course_id': ['CS101','MATH201','PHYS101','CS101','MATH201']\n",
    "})"
   ]
  },
  {
   "cell_type": "code",
   "execution_count": null,
   "id": "2feaf59b",
   "metadata": {},
   "outputs": [
    {
     "name": "stdout",
     "output_type": "stream",
     "text": [
      "   student_id     name major course_id\n",
      "0           1    Alice    CS     CS101\n",
      "1           2      Bob  Math   MATH201\n",
      "2           2      Bob  Math   PHYS101\n",
      "3           3  Charlie    CS     CS101\n"
     ]
    }
   ],
   "source": [
    "\"\"\"\n",
    "Used inner join\n",
    "\"\"\"\n",
    "\n",
    "student_enrollments = students.merge(enrollments, on='student_id', how='inner')\n",
    "print(student_enrollments)"
   ]
  },
  {
   "cell_type": "code",
   "execution_count": 7,
   "id": "cbdc32cd",
   "metadata": {},
   "outputs": [
    {
     "name": "stdout",
     "output_type": "stream",
     "text": [
      "   student_id     name    major course_id\n",
      "0           1    Alice       CS     CS101\n",
      "1           2      Bob     Math   MATH201\n",
      "2           2      Bob     Math   PHYS101\n",
      "3           3  Charlie       CS     CS101\n",
      "4           4    David  Physics       NaN\n"
     ]
    }
   ],
   "source": [
    "\"\"\"\n",
    "Used left join\n",
    "\"\"\"\n",
    "\n",
    "all_students = students.merge(enrollments, on='student_id', how='left')\n",
    "print(all_students)"
   ]
  },
  {
   "cell_type": "code",
   "execution_count": 9,
   "id": "ab753f64",
   "metadata": {},
   "outputs": [
    {
     "name": "stdout",
     "output_type": "stream",
     "text": [
      "   student_id     name major course_id\n",
      "0           1    Alice    CS     CS101\n",
      "1           2      Bob  Math   MATH201\n",
      "2           2      Bob  Math   PHYS101\n",
      "3           3  Charlie    CS     CS101\n",
      "4           5      NaN   NaN   MATH201\n"
     ]
    }
   ],
   "source": [
    "\"\"\"\n",
    "Used right join\n",
    "\"\"\"\n",
    "\n",
    "all_students = students.merge(enrollments, on='student_id', how='right')\n",
    "print(all_students)"
   ]
  },
  {
   "cell_type": "code",
   "execution_count": 13,
   "id": "b4cd72b8",
   "metadata": {},
   "outputs": [
    {
     "name": "stdout",
     "output_type": "stream",
     "text": [
      "name\n",
      "Bob        2\n",
      "Alice      1\n",
      "Charlie    1\n",
      "Name: count, dtype: int64\n"
     ]
    }
   ],
   "source": [
    "student_course_enrolled = all_students['name'].value_counts()\n",
    "print(student_course_enrolled)"
   ]
  }
 ],
 "metadata": {
  "kernelspec": {
   "display_name": "env",
   "language": "python",
   "name": "python3"
  },
  "language_info": {
   "codemirror_mode": {
    "name": "ipython",
    "version": 3
   },
   "file_extension": ".py",
   "mimetype": "text/x-python",
   "name": "python",
   "nbconvert_exporter": "python",
   "pygments_lexer": "ipython3",
   "version": "3.12.3"
  }
 },
 "nbformat": 4,
 "nbformat_minor": 5
}
